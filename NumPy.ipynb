{
 "cells": [
  {
   "cell_type": "code",
   "execution_count": 39,
   "metadata": {
    "collapsed": false,
    "scrolled": false,
    "slideshow": {
     "slide_type": "slide"
    }
   },
   "outputs": [
    {
     "name": "stdout",
     "output_type": "stream",
     "text": [
      "CPU times: user 249 ms, sys: 2.39 s, total: 2.64 s\n",
      "Wall time: 581 ms\n"
     ]
    }
   ],
   "source": [
    "%%time\n",
    "import math\n",
    "import numpy as np\n",
    "x = [0.001 * value for value in range(100000)]\n",
    "for idx, value in enumerate(x):\n",
    "    y = math.sin(value)"
   ]
  },
  {
   "cell_type": "code",
   "execution_count": 40,
   "metadata": {
    "collapsed": false
   },
   "outputs": [
    {
     "name": "stdout",
     "output_type": "stream",
     "text": [
      "CPU times: user 278 ms, sys: 7 ms, total: 285 ms\n",
      "Wall time: 277 ms\n"
     ]
    }
   ],
   "source": [
    "%%time\n",
    "import math\n",
    "import numpy as np\n",
    "x = [0.001 * value for value in range(100000)]\n",
    "for idx, value in enumerate(x):\n",
    "    y = np.sin(value)"
   ]
  },
  {
   "cell_type": "code",
   "execution_count": 65,
   "metadata": {
    "collapsed": false
   },
   "outputs": [
    {
     "name": "stdout",
     "output_type": "stream",
     "text": [
      "a= [[ 0]\n",
      " [10]\n",
      " [20]\n",
      " [30]\n",
      " [40]\n",
      " [50]]\n",
      "b= [[1 1 1 1 1 1]]\n",
      "c= [[ 1  1  1  1  1  1]\n",
      " [11 11 11 11 11 11]\n",
      " [21 21 21 21 21 21]\n",
      " [31 31 31 31 31 31]\n",
      " [41 41 41 41 41 41]\n",
      " [51 51 51 51 51 51]]\n"
     ]
    }
   ],
   "source": [
    "# a + b 广播\n",
    "a = np.arange(0, 60, 10).reshape(-1, 1)\n",
    "print \"a=\",a\n",
    "b = np.ones([1, 6], int)\n",
    "print \"b=\",b\n",
    "c = a + b\n",
    "print \"c=\",c"
   ]
  },
  {
   "cell_type": "code",
   "execution_count": 75,
   "metadata": {
    "collapsed": false,
    "scrolled": true
   },
   "outputs": [
    {
     "name": "stdout",
     "output_type": "stream",
     "text": [
      "[[1 1 1]\n",
      " [1 1 1]]\n",
      "[[1 2]\n",
      " [3 4]\n",
      " [5 6]]\n",
      "[[ 9 12]\n",
      " [ 9 12]]\n"
     ]
    }
   ],
   "source": [
    "# dot\n",
    "a = np.ones([2,3], int)\n",
    "b = np.arange(1, 7).reshape(3,-1)\n",
    "print a\n",
    "print b\n",
    "print np.dot(a,b)"
   ]
  },
  {
   "cell_type": "code",
   "execution_count": 80,
   "metadata": {
    "collapsed": false
   },
   "outputs": [
    {
     "name": "stdout",
     "output_type": "stream",
     "text": [
      "3.8\n",
      "7\n",
      "4.56\n",
      "2.13541565041\n"
     ]
    }
   ],
   "source": [
    "import numpy as np\n",
    "\n",
    "a = np.array([1,2,4,5,7])\n",
    "\n",
    "# 均值\n",
    "print a.mean()\n",
    "\n",
    "# 最大值\n",
    "print a.max()\n",
    "\n",
    "# 方差\n",
    "print a.var()\n",
    "\n",
    "# 标准差\n",
    "print a.std()"
   ]
  },
  {
   "cell_type": "code",
   "execution_count": 149,
   "metadata": {
    "collapsed": false
   },
   "outputs": [
    {
     "name": "stdout",
     "output_type": "stream",
     "text": [
      "0\n"
     ]
    }
   ],
   "source": [
    "# 概率分布随机数\n",
    "# 产生二项分布的随机数：np.random.binomial(n,p,size=…)\n",
    "# 其中n,p,size分别是每轮试验次数、概率、轮数\n",
    "print np.random.binomial(1, 0.1)"
   ]
  },
  {
   "cell_type": "code",
   "execution_count": 150,
   "metadata": {
    "collapsed": false,
    "scrolled": true
   },
   "outputs": [
    {
     "name": "stdout",
     "output_type": "stream",
     "text": [
      "[  9.90068893   9.82960481   9.95589136   9.99609794  10.04685587\n",
      "   9.94528086   9.90695897   9.86938562  10.27670393   9.81462565]\n"
     ]
    }
   ],
   "source": [
    "# 产生N个正态分布的随机数：np.random.normal(均值，标准差，N)\n",
    "print np.random.normal(10, 0.1, 10)"
   ]
  },
  {
   "cell_type": "code",
   "execution_count": 245,
   "metadata": {
    "collapsed": false
   },
   "outputs": [
    {
     "data": {
      "image/png": "[encoded data removed]",
      "text/plain": [
       "<matplotlib.figure.Figure at 0x591ab10>"
      ]
     },
     "metadata": {},
     "output_type": "display_data"
    }
   ],
   "source": [
    "# 多项式拟合：poly= np.polyfit(x,a,n)\n",
    "# 拟合点集a得到n级多项式，其中x为横轴长度，返回多项式的系数\n",
    "import numpy as np  \n",
    "import matplotlib.pyplot as plt\n",
    "\n",
    "x = np.arange(1, 10, 0.1)\n",
    "#y = np.array([item ** 1.2 + np.random.random() for item in x])\n",
    "y = x ** 1.2 + np.random.rand(len(x))\n",
    "\n",
    "param = np.polyfit(x, y, 3)\n",
    "p=np.poly1d(param)\n",
    "\n",
    "plt.plot(x, y, '.', x, p(x))\n",
    "plt.show()"
   ]
  }
 ],
 "metadata": {
  "kernelspec": {
   "display_name": "Python 2",
   "language": "python",
   "name": "python2"
  },
  "language_info": {
   "codemirror_mode": {
    "name": "ipython",
    "version": 2
   },
   "file_extension": ".py",
   "mimetype": "text/x-python",
   "name": "python",
   "nbconvert_exporter": "python",
   "pygments_lexer": "ipython2",
   "version": "2.7.3"
  }
 },
 "nbformat": 4,
 "nbformat_minor": 2
}
